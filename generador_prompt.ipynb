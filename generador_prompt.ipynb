{
 "cells": [
  {
   "attachments": {},
   "cell_type": "markdown",
   "metadata": {},
   "source": [
    "### Ejemplo de Prompt 1"
   ]
  },
  {
   "attachments": {},
   "cell_type": "markdown",
   "metadata": {},
   "source": [
    "A. Montículo binario: [arreglo(1), arreglo ordenado(2), árbol binario completo(3), propiedad de montículo(4), min-heap(5), max-heap(6), hijo izquierdo y derecho(7), padre(8), insertar elemento(9), eliminar elemento(10), encontrar el mínimo o máximo(11), búsqueda por clave(12), orden de complejidad(13), heapify(14), subárbol (15), altura del árbol(16), balance del árbol(17), nodo raíz(18), árbol degenerado(19), árbol de búsqueda binaria(20), estructura de datos(21), cola de prioridad(22), estructura de datos no lineal(23), altura mínima(24), altura máxima (25), nodos hoja(26), nodos internos(27), desbalanceado(28), complejidad en tiempo de ejecución(29), complejidad espacial(30)]\n",
    "\n",
    "B. Árboles b o árboles b+: [árbol de búsqueda balanceado(1), raíz(2), nodos internos(3), hojas(4), claves(5), valores(6), búsqueda de una clave(7), inserción (8), eliminación (9), tamaño del árbol(10), profundidad del árbol(11), altura del árbol(12), búsqueda secuencial(14), árbol m-ario(15), lista enlazada(16).]\n",
    "\n",
    "C. Grafos: [nodos y aristas (1), peso de aristas(2), dirección(3), ciclo(4), camino(5), ruta(6), grafo dirigido(7), grafo no dirigido(8), algoritmo de Dijkstra(9), BFS (10), DFS(11), grafo conectado(12), grafo desconectado(13), grafo acíclico(14), matriz de adyacencia (15), lista de adyacencia (16), grafo denso (17), grafo disperso (18), orden topológico (19), TDA pila (20), TDA cola (21), TDA cola con prioridad (22)]\n",
    "\n",
    "Pregunta: \n",
    "Genera 10 preguntas V-F de la siguiente forma:\n",
    "ID estructura, ID frase,respuesta correcta,\"pregunta\",\"justificación\"\n",
    "\n",
    "Respuesta:\n",
    "\n",
    "A, 4,\"El montículo binario de mínimos siempre se cumple que el valor de los hijos es mayor al del padre.\",\"V\", \"Es la propiedad del montículo que permite que en la raíz siempre se encuentre el menor elemento\"\n",
    "\n",
    "C, 4,\"Un ciclo en un grafo ocurre cuando existe un camino desde un nodo hasta el mismo nodo.\",\"V\", \"Correcto, un ciclo es una secuencia de aristas que conectan un nodo consigo mismo y puede ocurrir en un grafo dirigido o no dirigido.”\n",
    "\n",
    "C, 20,\"El TDA 'pila' se utiliza en el algoritmo de BFS para recorrer los nodos del grafo.\", \"F\", \"Esto es incorrecto. El algoritmo de BFS utiliza una cola para recorrer los nodos del grafo en orden de cercanía a la fuente, no una pila.”"
   ]
  },
  {
   "attachments": {},
   "cell_type": "markdown",
   "metadata": {},
   "source": [
    "### Ejemplo de Prompt 2"
   ]
  },
  {
   "attachments": {},
   "cell_type": "markdown",
   "metadata": {},
   "source": [
    "Estructuras: [arreglo(0), lista enlazada (1), arreglo ordenado (2), tabla hash (3), árbol B (4), árbol B+(6), grafo (7), montículo binario (8), árbol AVL (9), árbol rojo-negro (10), árbol binario de búsqueda(11)]\n",
    "\n",
    "Formatos:\n",
    "A. ”Un {Estructura1} es más eficiente que un {Estructura2} en {tipo de operación} ya que {explicación breve}”\n",
    "\n",
    "B. “Es recomendable usar un {Estructura1} en vez de un {Estructura2} cuando queremos {realizar tarea específica}”\n",
    "\n",
    "C. “El uso de {Estructura1} proporciona una {ventaja} en comparación con {Estructura2} en {situación específica}”\n",
    "\n",
    "Pregunta: \n",
    "Genera 10 preguntas V-F de la siguiente forma:\n",
    "ID estructura1, IDestructura2, ID formato,respuesta correcta,\"pregunta\",\"justificación\"\n",
    "\n",
    "Respuesta:\n",
    "9, 10,1, F, \"Un árbol AVL es más eficiente (en tiempo) que un árbol rojo-negro en las operaciones de inserción y eliminación ya que realiza un menor trabajo para mantener el balance del árbol\",\"El AVL aplica reglas más estrictas par mantener un árbol balanceado, por lo que sus tiempos de inserción y eliminación son más altos.\"\n",
    "\n",
    "11, 3, 2, V,\"Es recomendable usar un árbol binario de búsqueda en vez de una tabla hash cuando queremos realizar búsquedas por rangos (e.g., todas las claves entre 100 y 200).\",\"El árbol binario de búsqueda permite una búsqueda por rango eficiente gracias a que es una estructura ordenada\"\n",
    "\n",
    "0, 1, 3, V, \"Un arreglo es adecuado almacenar para datos de tamaño fijo mientras que una lista enlazada es mejor para almacenar datos de tamaño variable\", \"El vector reserva un bloque de memoria contigua y su tamaño es fijo, mientras que la lista enlazada permite inserciones y eliminaciones más eficientes al no requerir reajustes en el espacio de memoria\""
   ]
  },
  {
   "attachments": {},
   "cell_type": "markdown",
   "metadata": {},
   "source": [
    "---------------------------------------------------------------------"
   ]
  },
  {
   "attachments": {},
   "cell_type": "markdown",
   "metadata": {},
   "source": [
    "### Generador de prompts"
   ]
  },
  {
   "cell_type": "code",
   "execution_count": 2,
   "metadata": {},
   "outputs": [],
   "source": [
    "# librerias a utilizar\n",
    "import pandas as pd\n",
    "import time "
   ]
  },
  {
   "cell_type": "code",
   "execution_count": 3,
   "metadata": {},
   "outputs": [],
   "source": [
    "# Definición de las estructuras de datos bien conocidas en C\n",
    "estructuras_datos_c = {\n",
    "    'arreglo': 'Un arreglo es una colección de elementos del mismo tipo, almacenados en posiciones contiguas de memoria.',\n",
    "    'lista_enlazada': 'Una lista enlazada es una estructura de datos que consta de un conjunto de nodos, cada uno con un dato y un enlace al siguiente nodo.',\n",
    "    'arreglo_ordenado': 'Un arreglo ordenado es un arreglo en el que los elementos se encuentran en un orden específico, como ascendente o descendente.',\n",
    "    'tabla_hash': 'Una tabla hash es una estructura de datos que permite el acceso a elementos en tiempo constante utilizando una función hash para transformar claves en índices de un array.',\n",
    "    'arbol_b': 'Un árbol B es una estructura de datos de árbol de búsqueda balanceado, que mantiene los datos ordenados y permite búsquedas, inserciones y eliminaciones eficientes.',\n",
    "    'arbol_b+': 'Un árbol B+ es una variante del árbol B que almacena punteros a registros en sus nodos hoja y mejora el rendimiento de ciertas operaciones al mantener más claves en cada nodo interno.',\n",
    "    'grafo': 'Un grafo es una estructura de datos que consiste en un conjunto de nodos y aristas que conectan estos nodos entre sí.',\n",
    "    'monticulo_binario': 'Un montículo binario es una estructura de datos en forma de árbol que cumple con la propiedad de montículo, donde cada nodo es menor (o mayor) que sus hijos en un min-heap (o max-heap).',\n",
    "    'arbol_avl': 'Un árbol AVL es un árbol binario de búsqueda autoequilibrado que mantiene un balance en altura para garantizar que las operaciones sean eficientes.',\n",
    "    'arbol_rojo_negro': 'Un árbol rojo-negro es un árbol binario de búsqueda autoequilibrado que asigna colores a los nodos y aplica reglas de coloreado para mantener el balance del árbol.',\n",
    "    'arbol_binario_busqueda': 'Un árbol binario de búsqueda es una estructura de datos de árbol en la que cada nodo tiene como máximo dos hijos y cumple con la propiedad de que el valor del nodo izquierdo es menor que el nodo padre y el valor del nodo derecho es mayor que el nodo padre.'\n",
    "}\n",
    "\n",
    "\n",
    "info_ejemplo_estructuras_datos_c = {\n",
    "    'arreglo': '0, 2, V, \"Los arreglos proporcionan un acceso rápido a los elementos almacenados en tiempo O(1) ya que están almacenados de forma contigua en la memoria.\", \"Los arreglos almacenan elementos de forma contigua, lo que permite un acceso rápido en tiempo constante.\"',\n",
    "    'lista_enlazada': '1, 16, F, \"En una lista enlazada, se puede acceder a cualquier elemento en tiempo O(1).\", \"El acceso a un elemento en una lista enlazada requiere tiempo O(n) en el peor caso, ya que debemos recorrer la lista para encontrar el elemento.\"',\n",
    "    'arreglo_ordenado': '2, 1, F, \"Un arreglo ordenado permite la inserción de un elemento en tiempo O(1).\", \"La inserción en un arreglo ordenado requiere tiempo O(n) en el peor caso, ya que puede ser necesario desplazar otros elementos para mantener el orden.\"',\n",
    "    'tabla_hash': '3, 7, V, \"Una tabla hash permite realizar búsquedas, inserciones y eliminaciones en tiempo promedio O(1).\", \"Las tablas hash utilizan funciones de hash para asignar elementos a posiciones específicas en la tabla, lo que permite realizar búsquedas, inserciones y eliminaciones rápidamente en tiempo promedio constante.\"',\n",
    "    'arbol_b': '4, 1, V, \"Un árbol B es un árbol de búsqueda balanceado que mantiene la altura del árbol logarítmica en función del número de elementos almacenados.\", \"Los árboles B se mantienen balanceados mediante divisiones y fusiones de nodos, lo que garantiza una altura logarítmica y búsquedas eficientes.\"',\n",
    "    'arbol_b+': '6, 4, V, \"En un árbol B+, todas las claves se almacenan en las hojas y los nodos internos solo almacenan claves de separación.\", \"Esta es una característica de los árboles B+, que permite búsquedas más rápidas y eficientes al almacenar todas las claves en las hojas.\"',\n",
    "    'grafo': '7, 1, V, \"Un grafo es una estructura de datos que consta de nodos y aristas que conectan esos nodos.\", \"Esta es la definición básica de un grafo, que se utiliza para representar relaciones entre elementos (nodos) y conexiones (aristas).\"',    \n",
    "    'monticulo_binario': '8, 5, V, \"Un min-heap es un montículo binario en el que el valor de cada nodo es menor o igual que los valores de sus hijos.\", \"Esta es la propiedad fundamental de un min-heap, que garantiza que el valor mínimo se encuentre en la raíz del montículo.\"',\n",
    "    'arbol_avl': '9, 17, V, \"Un árbol AVL es un árbol binario de búsqueda balanceado que garantiza que la altura de sus subárboles difiera en no más de 1 y -1 respectivamente.\", \"Esta es la propiedad fundamental de un árbol AVL, que garantiza que el árbol esté balanceado y que las operaciones sean eficientes.\"',\n",
    "    'arbol_rojo_negro': '10, 28, V, \"Un árbol rojo-negro es un árbol binario de búsqueda balanceado en el que cada nodo tiene un color (rojo o negro) y se cumplen ciertas propiedades para mantener el balance del árbol.\", \"Las propiedades de los árboles rojo-negro garantizan que el árbol permanezca aproximadamente balanceado, lo que permite realizar búsquedas, inserciones y eliminaciones eficientes en tiempo O(log n).\"',\n",
    "    'arbol_binario_busqueda': '11, 20, F, \"Un árbol binario de búsqueda siempre está balanceado, lo que garantiza una búsqueda eficiente en tiempo O(log n).\", \"Un árbol binario de búsqueda no necesariamente está balanceado. Si los elementos se insertan en un orden específico, puede degenerar en una lista enlazada, lo que hace que las búsquedas sean ineficientes en tiempo O(n) en el peor caso.\"'\n",
    "}\n",
    "\n",
    "\n",
    "info_ejemplo_estructuras_datos_sin_respuesta_c = {\n",
    "    'arreglo': '0, 2, \"Los arreglos son estructuras de datos que almacenan una colección de elementos del mismo tipo de forma contigua en la memoria.\"',\n",
    "    'lista_enlazada': '1, 16, \"Una lista enlazada es una estructura de datos en la que cada elemento (nodo) tiene un valor y un puntero que apunta al siguiente elemento en la lista.\"',\n",
    "    'arreglo_ordenado': '2, 1, \"Un arreglo ordenado es un arreglo en el que los elementos se encuentran ordenados en función de su valor. Esto permite realizar búsquedas eficientes mediante algoritmos como la búsqueda binaria.\"',\n",
    "    'tabla_hash': '3, 7, \"Una tabla hash es una estructura de datos que utiliza una función de hash para asignar claves a índices en un arreglo. Esto permite realizar búsquedas, inserciones y eliminaciones en tiempo constante en promedio.\"',\n",
    "    'arbol_b': '4, 1, \"Un árbol B es un árbol de búsqueda en el que cada nodo puede tener múltiples claves y múltiples hijos. Esto permite almacenar más elementos en un solo nodo, reduciendo la altura del árbol y mejorando el rendimiento de las búsquedas.\"',\n",
    "    'arbol_b+': '6, 4, \"Un árbol B+ es una variante del árbol B en la que todas las claves se almacenan en las hojas, lo que permite realizar búsquedas más eficientes.\"',\n",
    "    'grafo': '7, 1, \"Un grafo es una estructura de datos que se utiliza para representar relaciones entre elementos. Los elementos se llaman nodos y las relaciones entre ellos se llaman aristas.\"',\n",
    "    'monticulo_binario': '8, 5, \"Un montículo binario es una estructura de datos en la que cada nodo tiene un valor y el valor del nodo padre es menor o igual que el valor de sus hijos. Los montículos se utilizan para implementar colas de prioridad.\"',\n",
    "    'arbol_avl': '9, 17, \"Un árbol AVL es un árbol binario de búsqueda balanceado en el que la altura de los subárboles izquierdo y derecho difiere en no más de 1. Esto garantiza un tiempo de búsqueda eficiente en O(log n).\"',\n",
    "    'arbol_rojo_negro': '10, 28, \"Un árbol rojo-negro es un árbol binario de búsqueda balanceado en el que cada nodo tiene un color (rojo o negro) y se cumplen ciertas propiedades para mantener el balance del árbol. Los árboles rojo-negro se utilizan para implementar estructuras de datos como los mapas y los conjuntos.\"',\n",
    "    'arbol_binario_busqueda': '11, 20, \"Un árbol binario de búsqueda es un árbol binario en el que cada nodo tiene un valor y los valores de los nodos izquierdo son menores que el valor del nodo y los valores de los nodos derecho son mayores. Esto permite realizar búsquedas eficientes en tiempo O(log n).\"'\n",
    "}\n",
    "\n",
    "info_estructuras_datos_c = {\n",
    "    'arreglo': 'Arreglo: [colección de elementos(1), mismo tipo(2), posiciones contiguas de memoria(3), acceso rápido(4), tiempo O(1)(5), tamaño fijo(6), indexación(7), inserción(8), eliminación(9), búsqueda(10), complejidad de tiempo(11), complejidad espacial(12)]',\n",
    "    'lista_enlazada': 'Lista enlazada: [nodos(1), dato(2), enlace al siguiente nodo(3), inserción(4), eliminación(5), búsqueda(6), tiempo O(n)(7), espacio adicional(8), lista simple(9), lista doblemente enlazada(10), lista circular(11), complejidad de tiempo(12), complejidad espacial(13)]',\n",
    "    'arreglo_ordenado': 'Arreglo ordenado: [arreglo(1), orden específico(2), ascendente(3), descendente(4), inserción(5), eliminación(6), búsqueda(7), tiempo O(n)(8), complejidad de tiempo(9), complejidad espacial(10)]',\n",
    "    'tabla_hash':  'Tabla hash: [acceso a elementos(1), tiempo constante(2), función hash(3), transformar claves en índices(4), array(5), inserción(6), eliminación(7), búsqueda(8), colisiones(9), encadenamiento(10), direccionamiento abierto(11), complejidad de tiempo(12), complejidad espacial(13)]',\n",
    "    'arbol_b': 'Árbol B: [árbol de búsqueda balanceado(1), datos ordenados(2), búsqueda(3), inserción(4), eliminación(5), eficiente(6), división y fusión de nodos(7), altura logarítmica(8), raíz(9), nodos internos(10), hojas(11), claves(12), valores(13), tamaño del árbol(14), profundidad del árbol(15), altura del árbol(16)]',\n",
    "    'arbol_b+':  'Árbol B+: [variante del árbol B(1), punteros a registros en nodos hoja(2), rendimiento mejorado(3), más claves en nodo interno(4), árbol de búsqueda balanceado(5), raíz(6), nodos internos(7), hojas(8), claves(9), valores(10), búsqueda de una clave(11), inserción(12), eliminación(13), tamaño del árbol(14), profundidad del árbol(15), altura del árbol(16), lista enlazada(17)]',\n",
    "    'grafo': 'Grafo: [lista de adyacencia(1), matriz de adyacencia(2), tabla hash(3), árbol B(4), árbol B+(5), montículo binario(6), árbol AVL(7), árbol rojo-negro(8), árbol binario de búsqueda(9), estructura de datos no lineal(10), nodos y aristas(11), dirección de las aristas(12), peso de las aristas(13), ciclo(14), camino(15), ruta(16), grafo dirigido(17), grafo no dirigido(18), algoritmo de Dijkstra(19), BFS(20), DFS(21), grafo conectado(22), grafo desconectado(23), grafo acíclico(24), orden topológico(25), TDA pila(26), TDA cola(27), TDA cola con prioridad(28), adecuado para algoritmos de rutas óptimas(29), adecuado para modelar redes(30)]',\n",
    "    'monticulo_binario': ' Montículo binario: [arreglo(1), arreglo ordenado(2), árbol binario completo(3), propiedad de montículo(4), min-heap(5), max-heap(6), hijo izquierdo y derecho(7), padre(8), insertar elemento(9), eliminar elemento(10), encontrar el mínimo o máximo(11), búsqueda por clave(12), orden de complejidad(13), heapify(14), subárbol (15), altura del árbol(16), balance del árbol(17), nodo raíz(18), árbol degenerado(19), árbol de búsqueda binaria(20), estructura de datos(21), cola de prioridad(22), estructura de datos no lineal(23), altura mínima(24), altura máxima (25), nodos hoja(26), nodos internos(27), desbalanceado(28), complejidad en tiempo de ejecución(29), complejidad espacial(30)]',\n",
    "    'arbol_avl': 'Árbol AVL: [arreglo(1), lista enlazada(2), arreglo ordenado(3), tabla hash(4), árbol B(5), árbol B+(6), grafo(7), montículo binario(8), árbol rojo-negro(9), árbol binario de búsqueda(10), árbol balanceado(11), inserción y eliminación en tiempo logarítmico(12), búsqueda en tiempo logarítmico(13), auto-balanceo(14), altura balanceada(15), estructura de datos no lineal(16), adecuado para grandes conjuntos de datos(17), adecuado para algoritmos de búsqueda(18), adecuado para algoritmos de ordenamiento(19)]', \n",
    "    'arbol_binario_busqueda': 'Árbol binario de búsqueda: [árbol binario(1), valores ordenados(2), búsqueda de elementos(3), inserción de elementos(4), eliminación de elementos(5), árbol balanceado(6), altura logarítmica(7), complejidad de tiempo(8), complejidad espacial(9), árbol degenerado(10), adecuado para almacenar conjuntos ordenados de elementos(11), adecuado para la implementación de algoritmos de búsqueda y ordenamiento(12), estructura de datos no lineal(13)]'\n",
    "}\n",
    "\n"
   ]
  },
  {
   "cell_type": "code",
   "execution_count": 4,
   "metadata": {},
   "outputs": [],
   "source": [
    "# Convertir los diccionarios a DataFrames\n",
    "df_estructuras_datos_c = pd.DataFrame.from_dict(estructuras_datos_c, orient='index', columns=['Descripcion'])\n",
    "df_info_ejemplo_estructuras_datos_c = pd.DataFrame.from_dict(info_ejemplo_estructuras_datos_c, orient='index', columns=['Datos'])\n",
    "df_info_ejemplo_estructuras_datos_sin_respuesta_c = pd.DataFrame.from_dict(info_ejemplo_estructuras_datos_sin_respuesta_c, orient='index', columns=['Datos'])\n",
    "df_info_estructuras_datos_c = pd.DataFrame.from_dict(info_estructuras_datos_c, orient='index', columns=['Datos'])\n",
    "\n",
    "# Mostrar los DataFrames\n",
    "#print(df_estructuras_datos_c)\n",
    "#print(df_info_ejemplo_estructuras_datos_c)\n",
    "#print(df_info_ejemplo_estructuras_datos_sin_respuesta_c)\n",
    "#print(df_info_estructuras_datos_c)"
   ]
  },
  {
   "cell_type": "code",
   "execution_count": 5,
   "metadata": {},
   "outputs": [],
   "source": [
    "# Definición de funciones\n",
    "def imprimir_menu_principal():\n",
    "    print('Seleccione una estructura de datos (ingrese el número correspondiente):')\n",
    "    for idx, key in enumerate(df_estructuras_datos_c.index):\n",
    "        print(f'{idx + 1}. {key}')\n",
    "    time.sleep(1)\n",
    "\n",
    "def obtener_eleccion():\n",
    "    eleccion = int(input()) - 1\n",
    "    return eleccion\n",
    "\n",
    "def cantidad_ejemplos():\n",
    "    print('Ingrese la cantidad de preguntas que desea (12 maximo):')\n",
    "    time.sleep(1)\n",
    "    return int(input())\n",
    "\n",
    "def desea_justificacion():\n",
    "    print('¿Desea incluir respuestas? (S/N)')\n",
    "    time.sleep(1)\n",
    "    return input().lower() == 's'\n",
    "\n",
    "def generar_prompt(estructura, ejemplos, justificacion, numero):\n",
    "    estructuras_generales = \" Estructuras Generales: [arreglo(1), lista enlazada (2), arreglo ordenado (3), tabla hash (4), árbol B (5), árbol B+(6), grafo (7), montículo binario (8), árbol AVL (9), árbol rojo-negro (10), árbol binario de búsqueda(11)]\"\n",
    "    instruccion = f\" Generar {numero} preguntas V-F utilizando las estructuras de datos seleccionadas, ejemplos, formato y justificación.\"\n",
    "    formato = f\" Formato de respuesta V-F: ID Estructura1, ID Estructura2, ID formato {', respuesta correcta,' if justificacion else ','} 'pregunta' {', justificacion' if justificacion else ' '}\"\n",
    "    ejemplo = f\"{df_info_ejemplo_estructuras_datos_c.loc[estructura, 'Datos']}\" if justificacion else f\"{df_info_ejemplo_estructuras_datos_sin_respuesta_c.loc[estructura, 'Datos']}\"\n",
    "    contexto = f\" {estructura}\"\n",
    "    input_data = f\"{df_estructuras_datos_c.loc[estructura, 'Descripcion']} \\n {df_info_estructuras_datos_c.loc[estructura, 'Datos']}\\n Justificación: {'Sí' if justificacion else 'No'} \"\n",
    "    formato_vf = \" A. ”Un [Estructura1] es más eficiente que un [Estructura2] en [tipo de operación] ya que [explicación breve]” \\n B. “Es recomendable usar un [Estructura1] en vez de un [Estructura2] cuando queremos [realizar tarea específica]” \\n C. “El uso de [Estructura1] proporciona una [ventaja] en comparación con [Estructura2] en [situación específica]”\"\n",
    "\n",
    "    prompt = f\" Instruction: {instruccion}\\n{formato}\\n Ejemplo: {ejemplo}\\n Estructura escogida : {contexto}\\n{estructuras_generales}\\n Input Data: {input_data}\\n Output Indicator: \\n{formato_vf}\"\n",
    "    return prompt\n",
    "\n",
    "\n",
    "def info_estructura(eleccion):\n",
    "    return df_estructuras_datos_c.index[eleccion]\n",
    "\n",
    "def main():\n",
    "    imprimir_menu_principal()\n",
    "    eleccion = obtener_eleccion()\n",
    "    estructura = info_estructura(eleccion)\n",
    "    numero = cantidad_ejemplos()\n",
    "    justificacion = desea_justificacion()\n",
    "\n",
    "    prompt = generar_prompt(estructura, None, justificacion, numero)\n",
    "    print('\\n' + prompt)\n",
    "\n",
    "\n"
   ]
  },
  {
   "attachments": {},
   "cell_type": "markdown",
   "metadata": {},
   "source": [
    "### Ejecutar el código "
   ]
  },
  {
   "cell_type": "code",
   "execution_count": 6,
   "metadata": {},
   "outputs": [
    {
     "name": "stdout",
     "output_type": "stream",
     "text": [
      "Seleccione una estructura de datos (ingrese el número correspondiente):\n",
      "1. arreglo\n",
      "2. lista_enlazada\n",
      "3. arreglo_ordenado\n",
      "4. tabla_hash\n",
      "5. arbol_b\n",
      "6. arbol_b+\n",
      "7. grafo\n",
      "8. monticulo_binario\n",
      "9. arbol_avl\n",
      "10. arbol_rojo_negro\n",
      "11. arbol_binario_busqueda\n",
      "Ingrese la cantidad de preguntas que desea (12 maximo):\n",
      "¿Desea incluir respuestas? (S/N)\n",
      "\n",
      " Instruction:  Generar 6 preguntas V-F utilizando las estructuras de datos seleccionadas, ejemplos, formato y justificación.\n",
      " Formato de respuesta V-F: ID Estructura1, ID Estructura2, ID formato , respuesta correcta, 'pregunta' , justificacion\n",
      " Ejemplo: 3, 7, V, \"Una tabla hash permite realizar búsquedas, inserciones y eliminaciones en tiempo promedio O(1).\", \"Las tablas hash utilizan funciones de hash para asignar elementos a posiciones específicas en la tabla, lo que permite realizar búsquedas, inserciones y eliminaciones rápidamente en tiempo promedio constante.\"\n",
      " Estructura escogida :  tabla_hash\n",
      " Estructuras Generales: [arreglo(1), lista enlazada (2), arreglo ordenado (3), tabla hash (4), árbol B (5), árbol B+(6), grafo (7), montículo binario (8), árbol AVL (9), árbol rojo-negro (10), árbol binario de búsqueda(11)]\n",
      " Input Data: Una tabla hash es una estructura de datos que permite el acceso a elementos en tiempo constante utilizando una función hash para transformar claves en índices de un array. \n",
      " Tabla hash: [acceso a elementos(1), tiempo constante(2), función hash(3), transformar claves en índices(4), array(5), inserción(6), eliminación(7), búsqueda(8), colisiones(9), encadenamiento(10), direccionamiento abierto(11), complejidad de tiempo(12), complejidad espacial(13)]\n",
      " Justificación: Sí \n",
      " Output Indicator: \n",
      " A. ”Un [Estructura1] es más eficiente que un [Estructura2] en [tipo de operación] ya que [explicación breve]” \n",
      " B. “Es recomendable usar un [Estructura1] en vez de un [Estructura2] cuando queremos [realizar tarea específica]” \n",
      " C. “El uso de [Estructura1] proporciona una [ventaja] en comparación con [Estructura2] en [situación específica]”\n"
     ]
    }
   ],
   "source": [
    "if __name__ == \"__main__\":\n",
    "    main()"
   ]
  },
  {
   "attachments": {},
   "cell_type": "markdown",
   "metadata": {},
   "source": [
    "---"
   ]
  }
 ],
 "metadata": {
  "kernelspec": {
   "display_name": "Python 3",
   "language": "python",
   "name": "python3"
  },
  "language_info": {
   "codemirror_mode": {
    "name": "ipython",
    "version": 3
   },
   "file_extension": ".py",
   "mimetype": "text/x-python",
   "name": "python",
   "nbconvert_exporter": "python",
   "pygments_lexer": "ipython3",
   "version": "3.10.4"
  },
  "orig_nbformat": 4
 },
 "nbformat": 4,
 "nbformat_minor": 2
}
